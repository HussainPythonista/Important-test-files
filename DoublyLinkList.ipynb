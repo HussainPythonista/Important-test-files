{
 "cells": [
  {
   "cell_type": "markdown",
   "metadata": {},
   "source": [
    "# DOUBLY LINKED LIST\n"
   ]
  },
  {
   "cell_type": "markdown",
   "metadata": {},
   "source": [
    "### The doubly LinkList consists of 3 Fields in Each Node\n",
    "####       1.Previous Reference 2.Data or Value  3.Next Reference"
   ]
  },
  {
   "cell_type": "code",
   "execution_count": 41,
   "metadata": {},
   "outputs": [],
   "source": [
    "class Node:#Node class\n",
    "    def __init__(self,data,prev_reference=None,next_reference=None):\n",
    "        self.data=data\n",
    "        self.prev_reference=prev_reference\n",
    "        self.next_reference=next_reference"
   ]
  },
  {
   "cell_type": "code",
   "execution_count": 160,
   "metadata": {},
   "outputs": [],
   "source": [
    "class DoublyLinkList: #Link all nodes each other\n",
    "    def __init__(self):\n",
    "        self.head=None\n",
    "   \n",
    "    def get_last_node(self):#This will help us to get the last node \n",
    "        #If we get last node then upload the new_node in it\n",
    "        itr=self.head\n",
    "        while itr.next_reference:\n",
    "            itr=itr.next_reference\n",
    "        return itr\n",
    "    #Insert the value at begin of the head node\n",
    "    def insert_at_end(self,data):\n",
    "        if self.head is None:\n",
    "            node=Node(data)\n",
    "            self.head=node\n",
    "        else:\n",
    "            itr=self.get_last_node()\n",
    "            while itr.next_reference:\n",
    "                itr=itr.next_reference\n",
    "            node=Node(data)\n",
    "            itr.next_reference=node\n",
    "            node.prev_reference=itr\n",
    "    def insert_at_begin(self,data):\n",
    "        if self.head is None:\n",
    "            node=Node(data)\n",
    "            node.prev=None\n",
    "            self.head=node\n",
    "        else:\n",
    "            node=Node(data) \n",
    "            node.next_reference=self.head\n",
    "            self.head.prev_reference=node\n",
    "            self.head=node\n",
    "            node.prev_reference=None\n",
    "        \n",
    "    def insert_list(self,datalist):\n",
    "        \n",
    "        for data in datalist:    \n",
    "            self.insert_at_begin(data)\n",
    "###This Two are used to Traverse The Values\n",
    "    def print_forward(self):\n",
    "        itr=self.head\n",
    "        dlstr=''\n",
    "        while itr:\n",
    "            dlstr+=str(itr.data)+\"--->\"\n",
    "            itr=itr.next_reference\n",
    "        print(\"This is in Forward order\",dlstr)\n",
    "    def print_backward(self):\n",
    "        itr=self.get_last_node()\n",
    "        dlstr=''\n",
    "        while itr:\n",
    "            dlstr+=str(itr.data)+\"<---\"\n",
    "            itr=itr.prev_reference\n",
    "        print(\"This is in reverse Order\",dlstr)\n"
   ]
  },
  {
   "cell_type": "code",
   "execution_count": 163,
   "metadata": {},
   "outputs": [
    {
     "name": "stdout",
     "output_type": "stream",
     "text": [
      "This is in Forward order 88--->Moriah mills--->Priya Rai--->Lisa ann--->Kiara Mia--->Mia Khalifa--->\n",
      "This is in reverse Order Mia Khalifa<---Kiara Mia<---Lisa ann<---Priya Rai<---Moriah mills<---88<---\n"
     ]
    }
   ],
   "source": [
    "dll=DoublyLinkList()\n",
    "datalist=[\"Mia Khalifa\",\"Kiara Mia\",\"Lisa ann\",\"Priya Rai\",\"Moriah mills\"]\n",
    "dll.insert_list(datalist)\n",
    "dll.insert_at_begin(88)\n",
    "dll.print_forward()\n",
    "dll.print_backward()"
   ]
  },
  {
   "cell_type": "code",
   "execution_count": null,
   "metadata": {},
   "outputs": [],
   "source": []
  },
  {
   "cell_type": "code",
   "execution_count": null,
   "metadata": {},
   "outputs": [],
   "source": []
  },
  {
   "cell_type": "code",
   "execution_count": null,
   "metadata": {},
   "outputs": [],
   "source": []
  }
 ],
 "metadata": {
  "kernelspec": {
   "display_name": "Python 3",
   "language": "python",
   "name": "python3"
  },
  "language_info": {
   "codemirror_mode": {
    "name": "ipython",
    "version": 3
   },
   "file_extension": ".py",
   "mimetype": "text/x-python",
   "name": "python",
   "nbconvert_exporter": "python",
   "pygments_lexer": "ipython3",
   "version": "3.8.5"
  }
 },
 "nbformat": 4,
 "nbformat_minor": 4
}
